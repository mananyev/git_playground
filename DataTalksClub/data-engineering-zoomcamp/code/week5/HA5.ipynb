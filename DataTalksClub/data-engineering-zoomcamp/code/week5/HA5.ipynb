{
 "cells": [
  {
   "cell_type": "markdown",
   "id": "fef4f530-76d8-438a-9511-5e52fe335e94",
   "metadata": {},
   "source": [
    "# 0. Preparations"
   ]
  },
  {
   "cell_type": "code",
   "execution_count": 1,
   "id": "94312e78-9215-495e-afd8-eca75ec04a07",
   "metadata": {},
   "outputs": [],
   "source": [
    "import pyspark\n",
    "from pyspark.sql import SparkSession, types\n",
    "from pyspark.sql import functions as F"
   ]
  },
  {
   "cell_type": "code",
   "execution_count": 2,
   "id": "21249b81-4bd0-4a82-a308-ba0acf4dcfd0",
   "metadata": {},
   "outputs": [
    {
     "name": "stderr",
     "output_type": "stream",
     "text": [
      "Setting default log level to \"WARN\".\n",
      "To adjust logging level use sc.setLogLevel(newLevel). For SparkR, use setLogLevel(newLevel).\n"
     ]
    },
    {
     "name": "stdout",
     "output_type": "stream",
     "text": [
      "25/03/06 22:54:06 WARN NativeCodeLoader: Unable to load native-hadoop library for your platform... using builtin-java classes where applicable\n"
     ]
    }
   ],
   "source": [
    "spark = SparkSession.builder \\\n",
    "    .master(\"local[*]\") \\\n",
    "    .appName('ha5') \\\n",
    "    .getOrCreate()"
   ]
  },
  {
   "cell_type": "code",
   "execution_count": 3,
   "id": "fc8f6a2e-3933-4b20-b7f4-206dfe43bcca",
   "metadata": {},
   "outputs": [
    {
     "data": {
      "text/html": [
       "\n",
       "            <div>\n",
       "                <p><b>SparkSession - in-memory</b></p>\n",
       "                \n",
       "        <div>\n",
       "            <p><b>SparkContext</b></p>\n",
       "\n",
       "            <p><a href=\"http://de-zoomcamp.europe-west3-c.c.peaceful-tome-448411-p7.internal:4040\">Spark UI</a></p>\n",
       "\n",
       "            <dl>\n",
       "              <dt>Version</dt>\n",
       "                <dd><code>v3.3.2</code></dd>\n",
       "              <dt>Master</dt>\n",
       "                <dd><code>local[*]</code></dd>\n",
       "              <dt>AppName</dt>\n",
       "                <dd><code>ha5</code></dd>\n",
       "            </dl>\n",
       "        </div>\n",
       "        \n",
       "            </div>\n",
       "        "
      ],
      "text/plain": [
       "<pyspark.sql.session.SparkSession at 0x7f6af83cf710>"
      ]
     },
     "execution_count": 3,
     "metadata": {},
     "output_type": "execute_result"
    }
   ],
   "source": [
    "spark"
   ]
  },
  {
   "cell_type": "code",
   "execution_count": 4,
   "id": "b83ff732-0825-44df-9175-af54299cee8c",
   "metadata": {},
   "outputs": [
    {
     "name": "stdout",
     "output_type": "stream",
     "text": [
      "--2025-03-06 22:54:10--  https://d37ci6vzurychx.cloudfront.net/trip-data/yellow_tripdata_2024-10.parquet\n",
      "Resolving d37ci6vzurychx.cloudfront.net (d37ci6vzurychx.cloudfront.net)... 143.204.102.43, 143.204.102.231, 143.204.102.120, ...\n",
      "Connecting to d37ci6vzurychx.cloudfront.net (d37ci6vzurychx.cloudfront.net)|143.204.102.43|:443... connected.\n",
      "HTTP request sent, awaiting response... 200 OK\n",
      "Length: 64346071 (61M) [binary/octet-stream]\n",
      "Saving to: ‘yellow_tripdata_2024-10.parquet’\n",
      "\n",
      "yellow_tripdata_202 100%[===================>]  61.36M  49.1MB/s    in 1.2s    \n",
      "\n",
      "2025-03-06 22:54:12 (49.1 MB/s) - ‘yellow_tripdata_2024-10.parquet’ saved [64346071/64346071]\n",
      "\n"
     ]
    }
   ],
   "source": [
    "!wget https://d37ci6vzurychx.cloudfront.net/trip-data/yellow_tripdata_2024-10.parquet"
   ]
  },
  {
   "cell_type": "code",
   "execution_count": null,
   "id": "e54f08ea-0df4-49d4-b349-cc093d675479",
   "metadata": {},
   "outputs": [],
   "source": []
  },
  {
   "cell_type": "markdown",
   "id": "102f3335-f481-45b1-b4a8-e42d263a1f0f",
   "metadata": {},
   "source": [
    "# 1. Questions"
   ]
  },
  {
   "cell_type": "markdown",
   "id": "0de6eb51-dd6d-47e1-b561-c47c8e1687d2",
   "metadata": {},
   "source": [
    "## 1.1 Spark version"
   ]
  },
  {
   "cell_type": "code",
   "execution_count": 5,
   "id": "cef17447-6758-4e37-84d3-6e70b3469ee3",
   "metadata": {},
   "outputs": [
    {
     "data": {
      "text/plain": [
       "'3.3.2'"
      ]
     },
     "execution_count": 5,
     "metadata": {},
     "output_type": "execute_result"
    }
   ],
   "source": [
    "spark.version"
   ]
  },
  {
   "cell_type": "code",
   "execution_count": null,
   "id": "c060daa0-485c-46c0-b5ac-d8d249a0ccae",
   "metadata": {},
   "outputs": [],
   "source": []
  },
  {
   "cell_type": "markdown",
   "id": "a622ee02-078d-4d5d-9c2b-5d230ab7bb76",
   "metadata": {},
   "source": [
    "## 1.2 Partitions Yellow October 2024"
   ]
  },
  {
   "cell_type": "code",
   "execution_count": 6,
   "id": "bd6af64b-63d9-408c-9631-82a635fb8f82",
   "metadata": {},
   "outputs": [
    {
     "name": "stderr",
     "output_type": "stream",
     "text": [
      "                                                                                \r"
     ]
    }
   ],
   "source": [
    "df = spark.read \\\n",
    "    .option(\"header\", \"true\") \\\n",
    "    .parquet('yellow_tripdata_2024-10.parquet')"
   ]
  },
  {
   "cell_type": "code",
   "execution_count": 7,
   "id": "a09bf03b-cd20-4ab4-bdb9-68273b1b3135",
   "metadata": {},
   "outputs": [],
   "source": [
    "df = df.repartition(4)"
   ]
  },
  {
   "cell_type": "code",
   "execution_count": 8,
   "id": "7f9cfffc-c181-4fe0-b561-ef6c556f8f49",
   "metadata": {},
   "outputs": [
    {
     "name": "stderr",
     "output_type": "stream",
     "text": [
      "                                                                                \r"
     ]
    }
   ],
   "source": [
    "df.write.parquet('yellow/2024/10/')"
   ]
  },
  {
   "cell_type": "code",
   "execution_count": 9,
   "id": "1601f03c-a470-4785-827f-ff9ec2dbef9a",
   "metadata": {},
   "outputs": [
    {
     "name": "stdout",
     "output_type": "stream",
     "text": [
      "total 97M\n",
      "-rw-r--r-- 1 m1sk0 m1sk0   0 Mar  6 22:54 _SUCCESS\n",
      "-rw-r--r-- 1 m1sk0 m1sk0 25M Mar  6 22:54 part-00000-75625f18-74be-4097-8fbb-54fc2b665a47-c000.snappy.parquet\n",
      "-rw-r--r-- 1 m1sk0 m1sk0 25M Mar  6 22:54 part-00001-75625f18-74be-4097-8fbb-54fc2b665a47-c000.snappy.parquet\n",
      "-rw-r--r-- 1 m1sk0 m1sk0 25M Mar  6 22:54 part-00002-75625f18-74be-4097-8fbb-54fc2b665a47-c000.snappy.parquet\n",
      "-rw-r--r-- 1 m1sk0 m1sk0 25M Mar  6 22:54 part-00003-75625f18-74be-4097-8fbb-54fc2b665a47-c000.snappy.parquet\n"
     ]
    }
   ],
   "source": [
    "!ls -lh yellow/2024/10/"
   ]
  },
  {
   "cell_type": "code",
   "execution_count": null,
   "id": "8ace5f28-13ef-4ca2-bc42-c6753721c50f",
   "metadata": {},
   "outputs": [],
   "source": []
  },
  {
   "cell_type": "markdown",
   "id": "224b2833-bbd3-4825-8e9f-caaa67dcae4d",
   "metadata": {},
   "source": [
    "## 1.3 Count Records"
   ]
  },
  {
   "cell_type": "code",
   "execution_count": 10,
   "id": "8cf0e3b0-c9ac-47bd-b158-6cf39f5cadb1",
   "metadata": {},
   "outputs": [
    {
     "name": "stdout",
     "output_type": "stream",
     "text": [
      "root\n",
      " |-- VendorID: integer (nullable = true)\n",
      " |-- tpep_pickup_datetime: timestamp (nullable = true)\n",
      " |-- tpep_dropoff_datetime: timestamp (nullable = true)\n",
      " |-- passenger_count: long (nullable = true)\n",
      " |-- trip_distance: double (nullable = true)\n",
      " |-- RatecodeID: long (nullable = true)\n",
      " |-- store_and_fwd_flag: string (nullable = true)\n",
      " |-- PULocationID: integer (nullable = true)\n",
      " |-- DOLocationID: integer (nullable = true)\n",
      " |-- payment_type: long (nullable = true)\n",
      " |-- fare_amount: double (nullable = true)\n",
      " |-- extra: double (nullable = true)\n",
      " |-- mta_tax: double (nullable = true)\n",
      " |-- tip_amount: double (nullable = true)\n",
      " |-- tolls_amount: double (nullable = true)\n",
      " |-- improvement_surcharge: double (nullable = true)\n",
      " |-- total_amount: double (nullable = true)\n",
      " |-- congestion_surcharge: double (nullable = true)\n",
      " |-- Airport_fee: double (nullable = true)\n",
      "\n"
     ]
    }
   ],
   "source": [
    "df.printSchema()"
   ]
  },
  {
   "cell_type": "code",
   "execution_count": 11,
   "id": "61ada1f6-d2f4-40c7-8270-b13c25a6e0fd",
   "metadata": {},
   "outputs": [],
   "source": [
    "df = df \\\n",
    "    .withColumn('pickup_date', F.to_date(df.tpep_pickup_datetime)) \\\n",
    "    .withColumn('dropoff_date', F.to_date(df.tpep_dropoff_datetime))"
   ]
  },
  {
   "cell_type": "code",
   "execution_count": 12,
   "id": "b1456ff8-adab-4714-8fb7-f22425ba3752",
   "metadata": {},
   "outputs": [],
   "source": [
    "df.createOrReplaceTempView('df')"
   ]
  },
  {
   "cell_type": "code",
   "execution_count": 13,
   "id": "a55e3d3c-e9c6-4434-a91e-765bb755bebe",
   "metadata": {},
   "outputs": [
    {
     "name": "stderr",
     "output_type": "stream",
     "text": [
      "                                                                                \r"
     ]
    },
    {
     "data": {
      "text/plain": [
       "Row(count(1)=128893)"
      ]
     },
     "execution_count": 13,
     "metadata": {},
     "output_type": "execute_result"
    }
   ],
   "source": [
    "spark.sql(\"\"\"\n",
    "select count(1)\n",
    "from df\n",
    "where pickup_date = date('2024-10-15')\n",
    "\"\"\").head()"
   ]
  },
  {
   "cell_type": "code",
   "execution_count": 14,
   "id": "8d1046a5-0f80-4003-afe4-08bc1314d05e",
   "metadata": {},
   "outputs": [
    {
     "name": "stderr",
     "output_type": "stream",
     "text": [
      "                                                                                \r"
     ]
    },
    {
     "data": {
      "text/plain": [
       "Row(count(1)=127993)"
      ]
     },
     "execution_count": 14,
     "metadata": {},
     "output_type": "execute_result"
    }
   ],
   "source": [
    "spark.sql(\"\"\"\n",
    "select count(1)\n",
    "from df\n",
    "where pickup_date = date('2024-10-15')\n",
    "    and dropoff_date = date('2024-10-15')\n",
    "\"\"\").head()"
   ]
  },
  {
   "cell_type": "code",
   "execution_count": null,
   "id": "540a9c72-032a-4c9b-9c06-0b5d683dd99b",
   "metadata": {},
   "outputs": [],
   "source": []
  },
  {
   "cell_type": "markdown",
   "id": "a852db04-181a-44e5-8d45-c9152f3018b3",
   "metadata": {},
   "source": [
    "## 1.4 Longest Trip"
   ]
  },
  {
   "cell_type": "code",
   "execution_count": 15,
   "id": "a7878852-40ca-4041-a1ce-d199f5df97a0",
   "metadata": {},
   "outputs": [
    {
     "name": "stderr",
     "output_type": "stream",
     "text": [
      "                                                                                \r"
     ]
    },
    {
     "data": {
      "text/plain": [
       "Row(longest_trip_hours=162)"
      ]
     },
     "execution_count": 15,
     "metadata": {},
     "output_type": "execute_result"
    }
   ],
   "source": [
    "spark.sql(\"\"\"\n",
    "select (\n",
    "    extract(day from tpep_dropoff_datetime - tpep_pickup_datetime) * 24\n",
    "    + extract(hour from tpep_dropoff_datetime - tpep_pickup_datetime)\n",
    ") as longest_trip_hours\n",
    "from df\n",
    "order by tpep_dropoff_datetime - tpep_pickup_datetime desc\n",
    "limit 1\n",
    "\"\"\").head()"
   ]
  },
  {
   "cell_type": "code",
   "execution_count": null,
   "id": "2f129677-3170-4a78-a3cc-02a321028ed3",
   "metadata": {},
   "outputs": [],
   "source": []
  },
  {
   "cell_type": "markdown",
   "id": "38eb39de-a1ab-4407-ac86-f0dae4c219ae",
   "metadata": {},
   "source": [
    "## 1.5 User Interface"
   ]
  },
  {
   "cell_type": "markdown",
   "id": "cf0978e7-f8b4-45c8-b848-0a60aaf215cb",
   "metadata": {},
   "source": [
    "The link in `Spark UI` (below) uses port 4040"
   ]
  },
  {
   "cell_type": "code",
   "execution_count": 16,
   "id": "116793df-b788-4291-ba6e-5a557e0fb8f6",
   "metadata": {},
   "outputs": [
    {
     "data": {
      "text/html": [
       "\n",
       "            <div>\n",
       "                <p><b>SparkSession - in-memory</b></p>\n",
       "                \n",
       "        <div>\n",
       "            <p><b>SparkContext</b></p>\n",
       "\n",
       "            <p><a href=\"http://de-zoomcamp.europe-west3-c.c.peaceful-tome-448411-p7.internal:4040\">Spark UI</a></p>\n",
       "\n",
       "            <dl>\n",
       "              <dt>Version</dt>\n",
       "                <dd><code>v3.3.2</code></dd>\n",
       "              <dt>Master</dt>\n",
       "                <dd><code>local[*]</code></dd>\n",
       "              <dt>AppName</dt>\n",
       "                <dd><code>ha5</code></dd>\n",
       "            </dl>\n",
       "        </div>\n",
       "        \n",
       "            </div>\n",
       "        "
      ],
      "text/plain": [
       "<pyspark.sql.session.SparkSession at 0x7f6af83cf710>"
      ]
     },
     "execution_count": 16,
     "metadata": {},
     "output_type": "execute_result"
    }
   ],
   "source": [
    "spark"
   ]
  },
  {
   "cell_type": "code",
   "execution_count": null,
   "id": "b7702dd3-23c3-408b-b241-2434f2f144fc",
   "metadata": {},
   "outputs": [],
   "source": []
  },
  {
   "cell_type": "markdown",
   "id": "26c08bf7-e704-4e08-bcc2-d38e41e51c55",
   "metadata": {},
   "source": [
    "## 1.6 Least Frequent Pickup Location Zone"
   ]
  },
  {
   "cell_type": "code",
   "execution_count": 17,
   "id": "f94db483-8ba0-4630-8561-6b09f993bad1",
   "metadata": {},
   "outputs": [
    {
     "name": "stdout",
     "output_type": "stream",
     "text": [
      "--2025-03-06 22:54:50--  https://d37ci6vzurychx.cloudfront.net/misc/taxi_zone_lookup.csv\n",
      "Resolving d37ci6vzurychx.cloudfront.net (d37ci6vzurychx.cloudfront.net)... 143.204.102.123, 143.204.102.120, 143.204.102.231, ...\n",
      "Connecting to d37ci6vzurychx.cloudfront.net (d37ci6vzurychx.cloudfront.net)|143.204.102.123|:443... connected.\n",
      "HTTP request sent, awaiting response... 200 OK\n",
      "Length: 12331 (12K) [text/csv]\n",
      "Saving to: ‘taxi_zone_lookup.csv’\n",
      "\n",
      "taxi_zone_lookup.cs 100%[===================>]  12.04K  --.-KB/s    in 0s      \n",
      "\n",
      "2025-03-06 22:54:50 (113 MB/s) - ‘taxi_zone_lookup.csv’ saved [12331/12331]\n",
      "\n"
     ]
    }
   ],
   "source": [
    "!wget https://d37ci6vzurychx.cloudfront.net/misc/taxi_zone_lookup.csv"
   ]
  },
  {
   "cell_type": "code",
   "execution_count": 18,
   "id": "cb39ddc7-7650-48cd-9677-96aaaca4803d",
   "metadata": {},
   "outputs": [],
   "source": [
    "df_zones = spark.read \\\n",
    "    .option(\"header\", \"true\") \\\n",
    "    .csv('taxi_zone_lookup.csv')"
   ]
  },
  {
   "cell_type": "code",
   "execution_count": 19,
   "id": "90bf07cf-4823-473e-970c-8a57e5b1e91a",
   "metadata": {},
   "outputs": [
    {
     "name": "stdout",
     "output_type": "stream",
     "text": [
      "root\n",
      " |-- LocationID: string (nullable = true)\n",
      " |-- Borough: string (nullable = true)\n",
      " |-- Zone: string (nullable = true)\n",
      " |-- service_zone: string (nullable = true)\n",
      "\n"
     ]
    }
   ],
   "source": [
    "df_zones.printSchema()"
   ]
  },
  {
   "cell_type": "code",
   "execution_count": 20,
   "id": "c0c7e0f0-4578-4e1f-a1e1-68decd30e450",
   "metadata": {},
   "outputs": [],
   "source": [
    "df_zones.createOrReplaceTempView('df_zones')"
   ]
  },
  {
   "cell_type": "code",
   "execution_count": 21,
   "id": "33e73e80-50fe-430c-aba6-63f307439740",
   "metadata": {},
   "outputs": [],
   "source": [
    "# # an alternative :)\n",
    "\n",
    "# df_taxi_2024_10 = df.join(\n",
    "#     df_zones,\n",
    "#     df.PULocationID == df_zones.LocationID,\n",
    "#     how='left'\n",
    "# )\n",
    "# df_taxi_2024_10.createOrReplaceTempView('df_taxi_2024_10')\n",
    "# spark.sql(\"\"\"\n",
    "# select\n",
    "#     Zone\n",
    "#     , count(1)  as rides\n",
    "# from df_taxi_2024_10\n",
    "# group by Zone\n",
    "# order by rides\n",
    "# limit 1\n",
    "# \"\"\").head()"
   ]
  },
  {
   "cell_type": "code",
   "execution_count": 22,
   "id": "7c6509f9-a627-45fc-8e76-ee7ce4499787",
   "metadata": {},
   "outputs": [
    {
     "name": "stderr",
     "output_type": "stream",
     "text": [
      "                                                                                \r"
     ]
    },
    {
     "data": {
      "text/plain": [
       "Row(Zone=\"Governor's Island/Ellis Island/Liberty Island\", rides=1)"
      ]
     },
     "execution_count": 22,
     "metadata": {},
     "output_type": "execute_result"
    }
   ],
   "source": [
    "spark.sql(\"\"\"\n",
    "select\n",
    "    df_zones.Zone\n",
    "    , count(1)  as rides\n",
    "from df\n",
    "    left join df_zones on df_zones.LocationID = df.PULocationID\n",
    "group by df_zones.Zone\n",
    "order by rides\n",
    "limit 1\n",
    "\"\"\").head()"
   ]
  },
  {
   "cell_type": "code",
   "execution_count": 23,
   "id": "2b06a596-a92b-4741-9181-1e7cad733690",
   "metadata": {},
   "outputs": [],
   "source": [
    "spark.stop()"
   ]
  },
  {
   "cell_type": "code",
   "execution_count": null,
   "id": "36a7ee72-01f6-4129-b025-45146e310904",
   "metadata": {},
   "outputs": [],
   "source": []
  }
 ],
 "metadata": {
  "kernelspec": {
   "display_name": "Python 3 (ipykernel)",
   "language": "python",
   "name": "python3"
  },
  "language_info": {
   "codemirror_mode": {
    "name": "ipython",
    "version": 3
   },
   "file_extension": ".py",
   "mimetype": "text/x-python",
   "name": "python",
   "nbconvert_exporter": "python",
   "pygments_lexer": "ipython3",
   "version": "3.12.2"
  }
 },
 "nbformat": 4,
 "nbformat_minor": 5
}
